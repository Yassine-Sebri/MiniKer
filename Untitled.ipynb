{
 "cells": [
  {
   "cell_type": "code",
   "execution_count": 1,
   "metadata": {},
   "outputs": [],
   "source": [
    "# Essentials\n",
    "import numpy as np\n",
    "import matplotlib.pyplot as plt\n",
    "%matplotlib inline\n",
    "\n",
    "# Importing activation functions\n",
    "from activation_functions import tanh, tanh_derivative, sigmoid, sigmoid_derivative, relu, relu_derivative\n",
    "from initializers import xavier, he"
   ]
  },
  {
   "cell_type": "code",
   "execution_count": 2,
   "metadata": {},
   "outputs": [
    {
     "data": {
      "image/png": "[encoded data removed]",
      "text/plain": [
       "<Figure size 432x288 with 1 Axes>"
      ]
     },
     "metadata": {
      "needs_background": "light"
     },
     "output_type": "display_data"
    }
   ],
   "source": [
    "# Creating the dataset \n",
    "X = np.arange(-np.pi, np.pi, 0.005)\n",
    "y = np.sin(X) * np.sin(2 * X) * np.sin(3 * X)\n",
    "plt.plot(X, y);\n",
    "plt.show();\n",
    "X = X.reshape(1257, 1)\n",
    "y = y.reshape(1257, 1)"
   ]
  },
  {
   "cell_type": "code",
   "execution_count": 3,
   "metadata": {},
   "outputs": [],
   "source": [
    "# defining a neural network\n",
    "class NeuralNetwork:\n",
    "    '''To create a NeuralNetwork object you need features X, Label y and the number of neurons in each hidden layer.'''\n",
    "    def __init__(self, X, y, layers_length, activation='Relu', objective='regression'):\n",
    "        self.input = X\n",
    "        self.layers_length = layers_length\n",
    "        \n",
    "        # Initializing weights according to the activation function\n",
    "        if activation == 'tanh':\n",
    "            self.weights1 = xavier(self.input.shape[1] ,layers_length[0])\n",
    "            self.weights = []\n",
    "            for index, layer in enumerate(layers_length):\n",
    "                if index != 0:\n",
    "                    self.weights.append(xavier(layers_length[index-1] + 1,layers_length[index]))\n",
    "            self.last_weights = xavier(layers_length[-1] + 1, y.shape[1])\n",
    "        elif activation =='sigmoid':\n",
    "            self.weights1 = xavier(self.input.shape[1] ,layers_length[0]) * 3.6\n",
    "            self.weights = []\n",
    "            for index, layer in enumerate(layers_length):\n",
    "                if index != 0:\n",
    "                    self.weights.append(xavier(layers_length[index-1] + 1,layers_length[index]) * 3.6) \n",
    "            self.last_weights = xavier(layers_length[-1] + 1, y.shape[1]) * 3.6\n",
    "        elif activation == 'Relu':\n",
    "            self.weights1 = he(self.input.shape[1] ,layers_length[0])\n",
    "            self.weights = []\n",
    "            for index, layer in enumerate(layers_length):\n",
    "                if index != 0:\n",
    "                    self.weights.append(he(layers_length[index-1] + 1,layers_length[index]))\n",
    "            self.last_weights = he(layers_length[-1] + 1, y.shape[1])\n",
    "        \n",
    "        self.output = np.zeros(y.shape)\n",
    "        self.y = y\n",
    "        self.activation = activation\n",
    "        self.objective = objective\n",
    "        \n",
    "    def __activation_func(self):\n",
    "        activation_options = {\n",
    "            'tanh': (tanh, tanh_derivative),\n",
    "            'sigmoid': (sigmoid, sigmoid_derivative),\n",
    "            'Relu': (relu, relu_derivative)\n",
    "        }\n",
    "        return activation_options[self.activation]\n",
    "                \n",
    "\n",
    "    def __feedforward(self):\n",
    "        activation = self.__activation_func()[0]\n",
    "        bias1 = np.ones((self.input.shape[0], 1))\n",
    "        self.z1 = np.concatenate((np.dot(self.input, self.weights1), bias1), axis=1)\n",
    "        self.layer1 = activation(self.z1)\n",
    "        self.layers = [self.layer1]\n",
    "        self.zs = [self.z1]\n",
    "        for weight in self.weights:\n",
    "            prev_layer =self.layers[-1]\n",
    "            bias = np.ones((prev_layer.shape[0], 1))\n",
    "            z = np.concatenate((np.dot(prev_layer, weight), bias), axis=1)\n",
    "            layer = activation(z)\n",
    "            self.layers.append(layer)\n",
    "            self.zs.append(z)\n",
    "        self.z_last = np.dot(self.layers[-1], self.last_weights)\n",
    "        self.output = self.z_last if self.objective == 'regression' else activation(self.z_last)\n",
    "        return self.output\n",
    "    \n",
    "    def __backprop(self):\n",
    "        derivative = self.__activation_func()[1]\n",
    "        delta_last = 2 * (self.y - self.output) if self.objective == 'regression' else derivative(2 * (self.y - self.output))\n",
    "        d_last_weights = np.dot(self.layers[-1].T, delta_last)\n",
    "        \n",
    "        deltas = [delta_last]\n",
    "        d_weights = []\n",
    "        for index in reversed(range(len(self.weights))):\n",
    "            if index < len(self.weights) - 1:\n",
    "                delta = np.dot(deltas[-1][:,:-1], self.weights[index+1].T) * derivative(self.zs[index+1])\n",
    "            else:\n",
    "                delta = np.dot(deltas[-1], self.last_weights.T) * derivative(self.zs[index+1])\n",
    "            if index != 0:\n",
    "                d_weights.append(np.dot(self.layers[index].T, delta))\n",
    "            else: \n",
    "                d_weights.append(np.dot(self.layer1.T, delta))\n",
    "            deltas.append(delta)\n",
    "            \n",
    "        if self.weights == []:\n",
    "            d_weights1 = np.dot(self.input.T, np.dot(deltas[-1], self.last_weights.T) * derivative(self.z1))\n",
    "        else:\n",
    "            d_weights1 = np.dot(self.input.T, np.dot(deltas[-1][:,:-1], self.weights[0].T) * derivative(self.z1))\n",
    "        \n",
    "        self.last_weights += self.learning_rate * d_last_weights\n",
    "        for index in reversed(range(len(self.weights))):\n",
    "            self.weights[len(self.weights) - index - 1] += self.learning_rate * d_weights[index][:, :-1]\n",
    "        self.weights1 += self.learning_rate * d_weights1[:, :-1]\n",
    "        \n",
    "    def compile(self, learning_rate):\n",
    "        self.learning_rate = learning_rate\n",
    "        \n",
    "    def train(self, epochs=1000):\n",
    "        history = []\n",
    "        for i in range(epochs + 1):\n",
    "            history.append(np.mean(np.square(y - self.output)))\n",
    "            output = self.__feedforward()\n",
    "            if (i % (epochs // 10) == 0):\n",
    "                print(\"epoch {}\".format(i))\n",
    "                print(\"loss: {}\".format(np.mean(np.square(y - self.output))))\n",
    "                print(\"-----------------------------------------------------\")\n",
    "            self.__backprop()\n",
    "        return history\n",
    "        \n",
    "    def predict(self):\n",
    "        return self.__feedforward()\n",
    "        \n",
    "    def summary(self):\n",
    "        '''Providesss a quick summary of the model'''\n",
    "        if self.input.shape[1] > 1:\n",
    "            print(\"Input layer has {} neurons.\".format(self.input.shape[1]))\n",
    "        else:\n",
    "            print(\"Input layer has 1 neuron.\")\n",
    "        print(\"Weight matrix 1 has {} shape.\".format(self.weights1.shape))\n",
    "        for index in range(len(self.layers_length)):\n",
    "            print(\"Hidden layer {} has {} neurons.\".format(index+1, self.layers_length[index]))\n",
    "            if index < len(self.weights):\n",
    "                print(\"Weight matrix {} has {} shape.\".format(index+2, self.weights[index].shape))\n",
    "        print(\"Weight matrix {} has {} shape.\".format(index+2, self.last_weights.shape))\n",
    "        if self.output.shape[1] > 1:\n",
    "            print(\"Output layer has {} neurons.\".format(self.output.shape[1]))\n",
    "        else:\n",
    "            print(\"Output layer has 1 neuron.\")"
   ]
  },
  {
   "cell_type": "code",
   "execution_count": 4,
   "metadata": {},
   "outputs": [
    {
     "name": "stdout",
     "output_type": "stream",
     "text": [
      "Input layer has 1 neuron.\n",
      "Weight matrix 1 has (1, 128) shape.\n",
      "Hidden layer 1 has 128 neurons.\n",
      "Weight matrix 2 has (129, 128) shape.\n",
      "Hidden layer 2 has 128 neurons.\n",
      "Weight matrix 3 has (129, 128) shape.\n",
      "Hidden layer 3 has 128 neurons.\n",
      "Weight matrix 4 has (129, 128) shape.\n",
      "Hidden layer 4 has 128 neurons.\n",
      "Weight matrix 5 has (129, 1) shape.\n",
      "Output layer has 1 neuron.\n"
     ]
    }
   ],
   "source": [
    "NN = NeuralNetwork(X, y, [128, 128, 128, 128], activation='Relu')\n",
    "NN.summary()\n",
    "NN.compile(0.0001)"
   ]
  },
  {
   "cell_type": "code",
   "execution_count": null,
   "metadata": {},
   "outputs": [
    {
     "name": "stdout",
     "output_type": "stream",
     "text": [
      "epoch 0\n",
      "loss: 0.15366526446564366\n",
      "-----------------------------------------------------\n",
      "epoch 1000\n",
      "loss: 0.04850851741890317\n",
      "-----------------------------------------------------\n",
      "epoch 2000\n",
      "loss: 0.04520236171306234\n",
      "-----------------------------------------------------\n",
      "epoch 3000\n",
      "loss: 0.028972236514894\n",
      "-----------------------------------------------------\n",
      "epoch 4000\n",
      "loss: 0.02445068581679235\n",
      "-----------------------------------------------------\n"
     ]
    }
   ],
   "source": [
    "r = NN.train(epochs=10000)"
   ]
  },
  {
   "cell_type": "code",
   "execution_count": null,
   "metadata": {},
   "outputs": [],
   "source": [
    "plt.plot(r);\n",
    "plt.xlabel('Epochs');\n",
    "plt.ylabel('Loss');"
   ]
  },
  {
   "cell_type": "code",
   "execution_count": null,
   "metadata": {},
   "outputs": [],
   "source": [
    "plt.figure(figsize=(16,4))\n",
    "plt.subplot(1, 2, 1)\n",
    "plt.plot(X.reshape(1257), NN.predict().reshape(1257))\n",
    "plt.subplot(1, 2, 2)\n",
    "plt.plot(X.reshape(1257), y.reshape(1257))\n",
    "plt.show()"
   ]
  }
 ],
 "metadata": {
  "kernelspec": {
   "display_name": "Python 3",
   "language": "python",
   "name": "python3"
  },
  "language_info": {
   "codemirror_mode": {
    "name": "ipython",
    "version": 3
   },
   "file_extension": ".py",
   "mimetype": "text/x-python",
   "name": "python",
   "nbconvert_exporter": "python",
   "pygments_lexer": "ipython3",
   "version": "3.7.4"
  }
 },
 "nbformat": 4,
 "nbformat_minor": 2
}
